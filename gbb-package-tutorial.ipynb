{
 "cells": [
  {
   "cell_type": "markdown",
   "metadata": {},
   "source": [
    "# Xbb Tagger Calibration Package Tutorial "
   ]
  },
  {
   "cell_type": "markdown",
   "metadata": {},
   "source": [
    "## Introduction\n",
    "\n",
    "### What is an Xbb tagger?\n",
    "\n",
    "Think of this tagger in this way. After a series of collisions which happened in LHC, we collect a bunch of data and reconstruct them into many jets (Assume you are already familier with the concept of jet after the jet tutorial you went through). However, having these jets in hand, we are particularly interested in bb dijets. Xbb tagger is a tool which selects out all the bb jets from this vast ocean of jets, like a robot putting a \"this is a bb jet\" tag on all the bb jets, just as its name implies. \n",
    "\n",
    "\"So why do we care about bb jets?\", you may ask. This is because by prediction, some new unknown heavy partical (which we are desperately looking for) has Higgs boson included in its decay chains, and, by the previous study, Higgs would again decays into b and b-bar. Hence, in order to spot out the new heavy particle from the up stream, we need first isolate out all the bb jets at the down stream, this is why this tagger cares exclusively about bb jets. However, since H->bb decay is not easy to find, so we use g->bb decays instead to examine this tagger (On principle, Xbb tagger should be valid for identifing what ever particle decaying into bb, this is why we call it **X**bb, **X** as a sence of a variable). To identify g->bb events, we use the fact that most of the time in an g->bb decay, one of the b jets would include a muon. So as you go through the package, you will see some names like **Muon Inclusive** or **Muon Filtered**, and here is why. \n",
    "\n",
    "\n",
    "\n",
    "\n",
    "<img src=\"img/gbb_decay_diagram.png\" alt=\"drawing\" width=\"600\"/>\n",
    "\n",
    "### What is scale factor and how do we calculate it?\n",
    "\n",
    "From the jet tutorial, you learned about how we use Monte Carlo (MC for short) simulation in high energy physics. The scale factor (SF for short) is baiscally a fraction comparing our tagger's efficiencies when applying on MC simulation and true measured data sample. A quick graphical definition is shown below:\n",
    "\n",
    "\n",
    "<img src=\"img/SF_def.png\" alt=\"drawing\" width=\"500\"/>\n",
    "\n",
    "Where $\\epsilon$ represents tagger efficiency and its subscripts denote two types of efficiency mentioned above. $N _{BB, total}$ coresponds to the number of bb jet before tagging, and $N _{BB, double-b-tagged}$ is the number of bb jet after tagging. Calculating the scale factor $\\kappa _{SF}$ is by just take the quotient of two $\\epsilon$. \n",
    "\n",
    "So we now know the definition of the SF, but how do we actually calculate it from all the sample sets we have in hand? Here is a breif discription of the percedure:\n",
    "\n",
    "**1. Get the number of BB events in MC to get $N^{MC}_{BB, total}$**\n",
    "\n",
    "From our MC simulation, the total number of BB events is already known (dark blue area). (Notice that we have classify the events into different bins according to their $s_{d0}$ to get a more percise result)\n",
    "\n",
    "<img src=\"img/MC_pretag.png\" alt=\"drawing\" width=\"300\"/>\n",
    "\n",
    "**2. Apply double b tagging on MC to get $N^{MC}_{BB, double-b-tagged}$**\n",
    "\n",
    "After applying the tagger, we could see that most of the events have been removed (LL, CL, CC, BL) except BB events. The number of BB events is still known (area of dark blue).\n",
    "\n",
    "<img src=\"img/MC_posttag.png\" alt=\"drawing\" width=\"300\"/>\n",
    "\n",
    "At this point, we could already calculate $\\epsilon_{MC}$ by taking the ration of dark blue area from two graphs above.\n",
    "\n",
    "**3. Do fitting on (1.) to get $N^{data}_{BB, total}$**\n",
    "\n",
    "From the above graphs, notice the black dots denoted *Data*, those are the total number of events we **measured** at LHC. In each bin, we don't know how many BB events we have, all we know is **the sum** of all events (i.e. LL, CL, CC, BL, BB). Here, we will make an important assumption: **\"After applying fitting on MC, the proportion of BB events is the same as which in measured data\"**. So, by scaling (or, in other words, fitting) the MC event number (the number including all events, not just BB) in each bin to match the data event number, we could obtain the BB events number in data. \n",
    "\n",
    "<img src=\"img/data_total.png\" alt=\"drawing\" width=\"300\"/>\n",
    "\n",
    "**4. Do fitting on (2.) to get $N^{data}_{BB, double-b-tagged}$**\n",
    "\n",
    "<img src=\"img/data_bb.png\" alt=\"drawing\" width=\"300\"/>\n",
    "\n",
    "By taking the ratio of dark bule area again for the fitted graphs, you obtain $\\epsilon_{data}$.\n",
    "\n",
    "**5. Calculate $\\kappa_{SF} = \\frac{\\epsilon_{data}}{\\epsilon_{MC}}$**\n",
    "\n",
    "\n"
   ]
  },
  {
   "cell_type": "markdown",
   "metadata": {},
   "source": [
    "## Setting up\n",
    "\n",
    "First of all, you will need to apply for a **NERSC** account. Please contact your supervisor to do so. NERSC is a scientific computing facility for the Office of Science in the U.S. Department of Energy. Through your account, you could log into the super computer at NERSC from your local machine and do all your work over there. Beaware that NERSC has several nodes avalible, most of our group members use **Cori**. \n",
    "\n"
   ]
  },
  {
   "cell_type": "code",
   "execution_count": null,
   "metadata": {},
   "outputs": [],
   "source": []
  }
 ],
 "metadata": {
  "kernelspec": {
   "display_name": "Python 3",
   "language": "python",
   "name": "python3"
  },
  "language_info": {
   "codemirror_mode": {
    "name": "ipython",
    "version": 3
   },
   "file_extension": ".py",
   "mimetype": "text/x-python",
   "name": "python",
   "nbconvert_exporter": "python",
   "pygments_lexer": "ipython3",
   "version": "3.7.3"
  }
 },
 "nbformat": 4,
 "nbformat_minor": 2
}
